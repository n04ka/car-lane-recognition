{
 "cells": [
  {
   "cell_type": "code",
   "execution_count": 1,
   "metadata": {},
   "outputs": [],
   "source": [
    "from math import isnan\n",
    "import numpy as np\n",
    "import cv2 as cv\n",
    "import time"
   ]
  },
  {
   "attachments": {},
   "cell_type": "markdown",
   "metadata": {},
   "source": [
    "Parameters"
   ]
  },
  {
   "cell_type": "code",
   "execution_count": 2,
   "metadata": {},
   "outputs": [],
   "source": [
    "fps = 200 # limit max fps\n",
    "buffer_size = 25\n",
    "path = 'roadvideo2.mp4'\n",
    "rectangle_to_proccess = (0.2, 0.8, 0.35, 0.8) # ratios to cut area from original video"
   ]
  },
  {
   "attachments": {},
   "cell_type": "markdown",
   "metadata": {},
   "source": [
    "Init buffers"
   ]
  },
  {
   "cell_type": "code",
   "execution_count": 3,
   "metadata": {},
   "outputs": [],
   "source": [
    "k1s = []\n",
    "k2s = []\n",
    "b1s = []\n",
    "b2s = []\n",
    "vid = cv.VideoCapture(path)"
   ]
  },
  {
   "attachments": {},
   "cell_type": "markdown",
   "metadata": {},
   "source": [
    "Function that returns cut rectangle and difference vector between top left corners"
   ]
  },
  {
   "cell_type": "code",
   "execution_count": 4,
   "metadata": {},
   "outputs": [],
   "source": [
    "def cut(img, x0, x1, y0, y1): # x0, x1, y0, y1 are ratios\n",
    "    height, width = img.shape[0], img.shape[1]\n",
    "    return img[int(height*y0):int(height*y1), int(width*x0):int(width*x1)], (int(width*x0), int(height*y0))"
   ]
  },
  {
   "attachments": {},
   "cell_type": "markdown",
   "metadata": {},
   "source": [
    "Hough lines search with adaptive threshold"
   ]
  },
  {
   "cell_type": "code",
   "execution_count": 5,
   "metadata": {},
   "outputs": [],
   "source": [
    "def look_for_Hough(img, min_theta, max_theta, max_treshold=100, min_treshhold=20):\n",
    "    for threshold in range(max_treshold, min_treshhold, -10):\n",
    "        lines = cv.HoughLines(img, 1, np.pi/250, threshold, min_theta=min_theta, max_theta=max_theta)\n",
    "        if lines is not None:\n",
    "            return lines\n",
    "    return None "
   ]
  },
  {
   "attachments": {},
   "cell_type": "markdown",
   "metadata": {},
   "source": [
    "Main cycle\n",
    "1. Cuts area from original frame\n",
    "2. Blurs it\n",
    "3. Canny\n",
    "4. Looks for Hough lines for left and right lines\n",
    "6. Buffer update\n",
    "5. Basic filtration using mean in buffer\n",
    "6. Draws lines on original frame\n",
    "7. Calculates and draws deviation from the middle of the road"
   ]
  },
  {
   "cell_type": "code",
   "execution_count": 6,
   "metadata": {},
   "outputs": [],
   "source": [
    "while(True):\n",
    "    tic = time.perf_counter()\n",
    "    ret, c_src  = vid.read()\n",
    "\n",
    "    if ret:\n",
    "        src = cv.cvtColor(c_src, cv.COLOR_BGR2GRAY)\n",
    "\n",
    "        area, bias = cut(src, *rectangle_to_proccess)\n",
    "        blurred = cv.blur(area, (3, 3))\n",
    "        bounds = cv.Canny(blurred, 50, 180, None, 3)\n",
    "\n",
    "        lines1 = look_for_Hough(bounds, min_theta=np.pi/6, max_theta=np.pi/2*0.8)\n",
    "        lines2 = look_for_Hough(bounds, min_theta=np.pi/2*1.2, max_theta=5*np.pi/6)\n",
    "        \n",
    "        if lines1 is not None and lines2 is not None:\n",
    "            \n",
    "            right = lines1[np.argmin(lines1[:, 0, 1])]\n",
    "            left = lines2[np.argmax(lines2[:, 0, 1])]\n",
    "            \n",
    "            #print(f\"left: (rho={left[0][0]}\\ttheta={left[0][1]})\\tright: (rho={right[0][0]}\\ttheta={right[0][1]})\")\n",
    "            \n",
    "            rho1, theta1= right[0]\n",
    "            rho2, theta2 = left[0]\n",
    "            k1 = -1/np.tan(theta1)\n",
    "            b1 = rho1/np.sin(theta1)\n",
    "            k2 = -1/np.tan(theta2)\n",
    "            b2 = rho2/np.sin(theta2)\n",
    "           \n",
    "            if len(k1s) >= buffer_size:\n",
    "                k1s.pop(0)\n",
    "                b1s.pop(0)\n",
    "                k2s.pop(0)\n",
    "                b2s.pop(0)\n",
    "\n",
    "            k1s.append(k1)\n",
    "            k2s.append(k2)        \n",
    "            b1s.append(b1)\n",
    "            b2s.append(b2)\n",
    "            \n",
    "            k1 = np.mean(k1s)\n",
    "            b1 = np.mean(b1s)\n",
    "            k2 = np.mean(k2s)\n",
    "            b2 = np.mean(b2s)\n",
    "            \n",
    "            #print(k2, b1, k1, b1, sep=\"\\t\")\n",
    "\n",
    "            x = (b1-b2) / (k2-k1)   # intersection\n",
    "            if isnan(x):\n",
    "                x = 10000\n",
    "            else:\n",
    "                x = int(x)\n",
    "            pt1 = (x + bias[0], int(k1*x + b1) + bias[1])\n",
    "\n",
    "            x = int((area.shape[0]-b1)/k1) # right border\n",
    "            pt2 = (x + bias[0], area.shape[0] + bias[1])\n",
    "\n",
    "            x = int((area.shape[0]-b2)/k2) # left border\n",
    "            pt3 = (x + bias[0], area.shape[0] + bias[1])\n",
    "\n",
    "            x = np.mean((pt2[0], pt3[0]))\n",
    "            mid_point = (int(x), pt2[1])\n",
    "\n",
    "            div = -np.arctan((x-pt1[0])/(mid_point[1]-pt1[1]))\n",
    "            cv.putText(c_src, \"%.2f\" % div, mid_point, cv.FONT_HERSHEY_SIMPLEX, 1, (0, 255, 0))\n",
    "\n",
    "            cv.line(c_src, pt1, pt2, (0, 0, 255), 5, cv.LINE_AA)\n",
    "            cv.line(c_src, pt1, pt3, (0, 0, 255), 5, cv.LINE_AA)\n",
    "            cv.line(c_src, pt1, mid_point, (0, 255, 0), 5, cv.LINE_AA)\n",
    "        else:\n",
    "            print(\"No lines\")\n",
    "\n",
    "        while time.perf_counter() - tic < 1/fps:\n",
    "            pass\n",
    "        cv.putText(c_src, str(int(1/(time.perf_counter() - tic))), (10, 30), cv.FONT_HERSHEY_SIMPLEX, 1, (0, 0, 255))\n",
    "        cv.imshow('Video', c_src)\n",
    "        cv.imshow('Bounds', bounds)\n",
    "\n",
    "    if cv.waitKey(1) & 0xFF == ord('q'):\n",
    "        break\n",
    "\n",
    "vid.release()\n",
    "cv.destroyAllWindows()"
   ]
  }
 ],
 "metadata": {
  "kernelspec": {
   "display_name": "Python 3",
   "language": "python",
   "name": "python3"
  },
  "language_info": {
   "codemirror_mode": {
    "name": "ipython",
    "version": 3
   },
   "file_extension": ".py",
   "mimetype": "text/x-python",
   "name": "python",
   "nbconvert_exporter": "python",
   "pygments_lexer": "ipython3",
   "version": "3.9.10"
  },
  "orig_nbformat": 4
 },
 "nbformat": 4,
 "nbformat_minor": 2
}
